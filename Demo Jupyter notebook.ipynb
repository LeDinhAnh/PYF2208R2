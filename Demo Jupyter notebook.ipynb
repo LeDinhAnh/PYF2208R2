{
 "cells": [
  {
   "cell_type": "markdown",
   "id": "a8a6df01",
   "metadata": {},
   "source": [
    "đây là code để in một nội dung ra màn hình "
   ]
  },
  {
   "cell_type": "code",
   "execution_count": 2,
   "id": "d9329820",
   "metadata": {
    "scrolled": true
   },
   "outputs": [
    {
     "name": "stdout",
     "output_type": "stream",
     "text": [
      "hello world !!!\n"
     ]
    }
   ],
   "source": [
    "print('hello world !!!')"
   ]
  },
  {
   "cell_type": "code",
   "execution_count": 3,
   "id": "c93829ad",
   "metadata": {
    "scrolled": true
   },
   "outputs": [
    {
     "name": "stdout",
     "output_type": "stream",
     "text": [
      "PYF2208R2\n"
     ]
    }
   ],
   "source": [
    "print('PYF2208R2')"
   ]
  },
  {
   "cell_type": "code",
   "execution_count": null,
   "id": "ed51ca2b",
   "metadata": {},
   "outputs": [],
   "source": []
  }
 ],
 "metadata": {
  "kernelspec": {
   "display_name": "Python 3 (ipykernel)",
   "language": "python",
   "name": "python3"
  },
  "language_info": {
   "codemirror_mode": {
    "name": "ipython",
    "version": 3
   },
   "file_extension": ".py",
   "mimetype": "text/x-python",
   "name": "python",
   "nbconvert_exporter": "python",
   "pygments_lexer": "ipython3",
   "version": "3.10.7"
  }
 },
 "nbformat": 4,
 "nbformat_minor": 5
}
